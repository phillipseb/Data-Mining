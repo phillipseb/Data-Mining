{
 "cells": [
  {
   "cell_type": "code",
   "execution_count": 2,
   "id": "39a1fa26",
   "metadata": {},
   "outputs": [
    {
     "name": "stdout",
     "output_type": "stream",
     "text": [
      "  Day of Week                                        comments\n",
      "0      Monday                             Hello, how are you?\n",
      "1     Tuesday                            Today is a good day!\n",
      "2   Wednesday  It's my birthday so it's a really special day!\n",
      "3    Thursday       Today is neither a good day or a bad day!\n",
      "4      Friday                           I'm having a bad day.\n",
      "5    Saturday       There' s nothing special happening today.\n",
      "6      Sunday                      Today is a SUPER good day!\n",
      "\n",
      "vectorized words\n",
      "\n",
      "['are', 'bad', 'birthday', 'day', 'good', 'happening', 'having', 'hello', 'how', 'is', 'it', 'my', 'neither', 'nothing', 'or', 'really', 'so', 'special', 'super', 'there', 'today', 'you']\n",
      "\n",
      "Identify Feature Words - Matrix View\n",
      "\n",
      "[[1 0 0 0 0 0 0 1 1 0 0 0 0 0 0 0 0 0 0 0 0 1]\n",
      " [0 0 0 1 1 0 0 0 0 1 0 0 0 0 0 0 0 0 0 0 1 0]\n",
      " [0 0 1 1 0 0 0 0 0 0 2 1 0 0 0 1 1 1 0 0 0 0]\n",
      " [0 1 0 2 1 0 0 0 0 1 0 0 1 0 1 0 0 0 0 0 1 0]\n",
      " [0 1 0 1 0 0 1 0 0 0 0 0 0 0 0 0 0 0 0 0 0 0]\n",
      " [0 0 0 0 0 1 0 0 0 0 0 0 0 1 0 0 0 1 0 1 1 0]\n",
      " [0 0 0 1 1 0 0 0 0 1 0 0 0 0 0 0 0 0 1 0 1 0]]\n",
      "\n",
      "                                             text  positive1  positive2  \\\n",
      "0                             Hello, how are you?          0          0   \n",
      "1                            Today is a good day!          1          0   \n",
      "2  It's my birthday so it's a really special day!          0          1   \n",
      "3       Today is neither a good day or a bad day!          1          0   \n",
      "4                           I'm having a bad day.          0          0   \n",
      "5       There' s nothing special happening today.          0          1   \n",
      "6                      Today is a SUPER good day!          1          0   \n",
      "\n",
      "   negative  TotScore  \n",
      "0         0         0  \n",
      "1         0         1  \n",
      "2         0         1  \n",
      "3         1         0  \n",
      "4         1        -1  \n",
      "5         0         1  \n",
      "6         0         1  \n",
      "\n",
      "Overall Score:   3\n"
     ]
    }
   ],
   "source": [
    "#Analyzing text for whether comments are positive or negative\n",
    "\n",
    "from sklearn.feature_extraction.text import CountVectorizer\n",
    "import pandas as pd\n",
    "import numpy as np\n",
    "\n",
    "Addr1='DailyComments.csv'\n",
    "dataframe = pd.read_csv(Addr1)\n",
    "print(dataframe)\n",
    "corpus = dataframe['comments']\n",
    "\n",
    "vectorizer = CountVectorizer()\n",
    "X = vectorizer.fit_transform(corpus)\n",
    "print(\"\")\n",
    "print(\"vectorized words\")\n",
    "print(\"\")\n",
    "print(vectorizer.get_feature_names())\n",
    "print(\"\")\n",
    "print(\"Identify Feature Words - Matrix View\")\n",
    "print(\"\")\n",
    "print( X.toarray())\n",
    "\n",
    "df = pd.DataFrame({'text' : corpus})\n",
    "\n",
    "#check for positive words and negative words\n",
    "df['positive1'] = df.text.str.count('good')\n",
    "df['positive2']= df.text.str.count('special')\n",
    "df['negative'] = df.text.str.count('bad')\n",
    "df['TotScore'] = df.positive1 + df.positive2 - df.negative\n",
    "\n",
    "print(\"\")\n",
    "print(df)\n",
    "\n",
    "Z = sum(df['TotScore'])\n",
    "print(\"\")\n",
    "print(\"Overall Score:  \",Z)\n",
    "\n"
   ]
  },
  {
   "cell_type": "code",
   "execution_count": null,
   "id": "b42072d8",
   "metadata": {},
   "outputs": [],
   "source": []
  }
 ],
 "metadata": {
  "kernelspec": {
   "display_name": "Python 3",
   "language": "python",
   "name": "python3"
  },
  "language_info": {
   "codemirror_mode": {
    "name": "ipython",
    "version": 3
   },
   "file_extension": ".py",
   "mimetype": "text/x-python",
   "name": "python",
   "nbconvert_exporter": "python",
   "pygments_lexer": "ipython3",
   "version": "3.8.8"
  }
 },
 "nbformat": 4,
 "nbformat_minor": 5
}
