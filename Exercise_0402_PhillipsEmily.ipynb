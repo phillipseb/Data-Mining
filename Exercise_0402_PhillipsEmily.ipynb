{
 "cells": [
  {
   "cell_type": "markdown",
   "id": "fe89565d",
   "metadata": {},
   "source": [
    "### Load the data file DailyComments.csv from the Week 4 Data Files into a data frame."
   ]
  },
  {
   "cell_type": "code",
   "execution_count": 2,
   "id": "4413e8ec",
   "metadata": {},
   "outputs": [],
   "source": [
    "import pandas as pd\n",
    "# Importing the NaiveBayesAnalyzer classifier from NLTK\n",
    "from textblob.sentiments import NaiveBayesAnalyzer"
   ]
  },
  {
   "cell_type": "code",
   "execution_count": 3,
   "id": "11f79453",
   "metadata": {},
   "outputs": [
    {
     "data": {
      "text/html": [
       "<div>\n",
       "<style scoped>\n",
       "    .dataframe tbody tr th:only-of-type {\n",
       "        vertical-align: middle;\n",
       "    }\n",
       "\n",
       "    .dataframe tbody tr th {\n",
       "        vertical-align: top;\n",
       "    }\n",
       "\n",
       "    .dataframe thead th {\n",
       "        text-align: right;\n",
       "    }\n",
       "</style>\n",
       "<table border=\"1\" class=\"dataframe\">\n",
       "  <thead>\n",
       "    <tr style=\"text-align: right;\">\n",
       "      <th></th>\n",
       "      <th>Day of Week</th>\n",
       "      <th>comments</th>\n",
       "    </tr>\n",
       "  </thead>\n",
       "  <tbody>\n",
       "    <tr>\n",
       "      <th>0</th>\n",
       "      <td>Monday</td>\n",
       "      <td>Hello, how are you?</td>\n",
       "    </tr>\n",
       "    <tr>\n",
       "      <th>1</th>\n",
       "      <td>Tuesday</td>\n",
       "      <td>Today is a good day!</td>\n",
       "    </tr>\n",
       "    <tr>\n",
       "      <th>2</th>\n",
       "      <td>Wednesday</td>\n",
       "      <td>It's my birthday so it's a really special day!</td>\n",
       "    </tr>\n",
       "    <tr>\n",
       "      <th>3</th>\n",
       "      <td>Thursday</td>\n",
       "      <td>Today is neither a good day or a bad day!</td>\n",
       "    </tr>\n",
       "    <tr>\n",
       "      <th>4</th>\n",
       "      <td>Friday</td>\n",
       "      <td>I'm having a bad day.</td>\n",
       "    </tr>\n",
       "  </tbody>\n",
       "</table>\n",
       "</div>"
      ],
      "text/plain": [
       "  Day of Week                                        comments\n",
       "0      Monday                             Hello, how are you?\n",
       "1     Tuesday                            Today is a good day!\n",
       "2   Wednesday  It's my birthday so it's a really special day!\n",
       "3    Thursday       Today is neither a good day or a bad day!\n",
       "4      Friday                           I'm having a bad day."
      ]
     },
     "execution_count": 3,
     "metadata": {},
     "output_type": "execute_result"
    }
   ],
   "source": [
    "#read csv file into Pandas DataFrame\n",
    "daily_comm = pd.read_csv(\"DailyComments.csv\")\n",
    "daily_comm.head()"
   ]
  },
  {
   "cell_type": "markdown",
   "id": "2debafd5",
   "metadata": {},
   "source": [
    "### Identify a scheme to categorize each comment as positive or negative. You can devise your own scheme or find a commonly used scheme to perform this sentiment analysis. However you decide to do this, make sure to explain the scheme you decide to use."
   ]
  },
  {
   "cell_type": "markdown",
   "id": "eab2b2c0",
   "metadata": {},
   "source": [
    "The TextBlob library is a way to process textual data. It uses a sentiment lexicon (consisting of predefined words) to assign scores for each word, which are then averaged out using a weighted average to give an overall sentence sentiment score. There are three scores that are calculated for each word: polarity (negative vs. positive), subjectivity (objective vs. subjective) and intensity (does it modify the next word?). "
   ]
  },
  {
   "cell_type": "code",
   "execution_count": 4,
   "id": "77f0babd",
   "metadata": {},
   "outputs": [],
   "source": [
    "#convenient package for NLP tasks\n",
    "#TextBlob for sentiment analysis\n",
    "from textblob import TextBlob"
   ]
  },
  {
   "cell_type": "code",
   "execution_count": 5,
   "id": "189bf76d",
   "metadata": {},
   "outputs": [
    {
     "data": {
      "text/plain": [
       "Sentiment(polarity=0.875, subjectivity=0.6000000000000001)"
      ]
     },
     "execution_count": 5,
     "metadata": {},
     "output_type": "execute_result"
    }
   ],
   "source": [
    "#Example of getting sentiment score for a comment in the dataframe\n",
    "TextBlob(daily_comm['comments'].iloc[1]).sentiment"
   ]
  },
  {
   "cell_type": "markdown",
   "id": "a4d50106",
   "metadata": {},
   "source": [
    "### Implement your sentiment analysis with code and display the results. Note: DailyComments.csv is a purposely small file, so you will be able to clearly see why the results are what they are."
   ]
  },
  {
   "cell_type": "code",
   "execution_count": 6,
   "id": "3c93e70e",
   "metadata": {},
   "outputs": [],
   "source": [
    "#Function for getting sentiment scores of texts/comments in dataframe\n",
    "#TextBlob.sentiment will return polarity and subjectivity values\n",
    "def get_sentimentScores(df,text_col):\n",
    "    polarity_vals = []\n",
    "    subjectivity_vals = []\n",
    "    for text in df[text_col]:\n",
    "        #TextBlob object around comment/text\n",
    "        blob_text = TextBlob(text)\n",
    "        \n",
    "        #returns a named tuple of the form Sentiment(polarity,subjectivity)\n",
    "        #float between [-1.0,1.0]\n",
    "        #polarity --> indicates negative sentiment (-1) to positive sentiment (1)\n",
    "        #subjectivity --> opinion, emotion or judgement\n",
    "        sent_values = blob_text.sentiment\n",
    "        \n",
    "        #Separating out polarity and subjectivity\n",
    "        polarity = sent_values[0]\n",
    "        subjectivity = sent_values[1]\n",
    "        \n",
    "        #creating lists to append to dataframe\n",
    "        polarity_vals.append(polarity)\n",
    "        subjectivity_vals.append(subjectivity)\n",
    "    \n",
    "    #creating new columns in dataframe for scores\n",
    "    df['Polarity'] = polarity_vals\n",
    "    df['Subjectivity'] = subjectivity_vals\n",
    "    \n",
    "    #return updated DataFrame\n",
    "    return df"
   ]
  },
  {
   "cell_type": "code",
   "execution_count": 7,
   "id": "70439012",
   "metadata": {},
   "outputs": [],
   "source": [
    "def sentiment_label(score):\n",
    "    #neutral, polarity score = 0\n",
    "    if score == 0:\n",
    "        return \"Neutral\"\n",
    "    #polarity score > 0, positive sentiment\n",
    "    elif score > 0:\n",
    "        return \"Positive\"\n",
    "    #polarity score < 0, negative sentiment\n",
    "    elif score < 0:\n",
    "        return \"Negative\"\n",
    "    return score"
   ]
  },
  {
   "cell_type": "code",
   "execution_count": 8,
   "id": "1664aeec",
   "metadata": {},
   "outputs": [],
   "source": [
    "def sentiment_assign(df,score_col):\n",
    "    #apply sentiment_label function on Polarity values in dataframe\n",
    "    #assess positive or negative and also neutral sentiment\n",
    "    df['Sentiment'] = df[score_col].apply(lambda score: sentiment_label(score))\n",
    "    return df"
   ]
  },
  {
   "cell_type": "code",
   "execution_count": 9,
   "id": "32a56fc6",
   "metadata": {},
   "outputs": [],
   "source": [
    "#getting the sentiment scores from TextBlob for the 'comments' in the dataset\n",
    "daily_comm = get_sentimentScores(daily_comm,'comments')\n",
    "#getting the sentiment label based on 'Polarity' for the dataset using the sentiment_label function\n",
    "daily_comm = sentiment_assign(daily_comm,'Polarity')"
   ]
  },
  {
   "cell_type": "code",
   "execution_count": 10,
   "id": "5b6a9df9",
   "metadata": {},
   "outputs": [
    {
     "data": {
      "text/html": [
       "<div>\n",
       "<style scoped>\n",
       "    .dataframe tbody tr th:only-of-type {\n",
       "        vertical-align: middle;\n",
       "    }\n",
       "\n",
       "    .dataframe tbody tr th {\n",
       "        vertical-align: top;\n",
       "    }\n",
       "\n",
       "    .dataframe thead th {\n",
       "        text-align: right;\n",
       "    }\n",
       "</style>\n",
       "<table border=\"1\" class=\"dataframe\">\n",
       "  <thead>\n",
       "    <tr style=\"text-align: right;\">\n",
       "      <th></th>\n",
       "      <th>Day of Week</th>\n",
       "      <th>comments</th>\n",
       "      <th>Polarity</th>\n",
       "      <th>Subjectivity</th>\n",
       "      <th>Sentiment</th>\n",
       "    </tr>\n",
       "  </thead>\n",
       "  <tbody>\n",
       "    <tr>\n",
       "      <th>0</th>\n",
       "      <td>Monday</td>\n",
       "      <td>Hello, how are you?</td>\n",
       "      <td>0.000000</td>\n",
       "      <td>0.000000</td>\n",
       "      <td>Neutral</td>\n",
       "    </tr>\n",
       "    <tr>\n",
       "      <th>1</th>\n",
       "      <td>Tuesday</td>\n",
       "      <td>Today is a good day!</td>\n",
       "      <td>0.875000</td>\n",
       "      <td>0.600000</td>\n",
       "      <td>Positive</td>\n",
       "    </tr>\n",
       "    <tr>\n",
       "      <th>2</th>\n",
       "      <td>Wednesday</td>\n",
       "      <td>It's my birthday so it's a really special day!</td>\n",
       "      <td>0.446429</td>\n",
       "      <td>0.571429</td>\n",
       "      <td>Positive</td>\n",
       "    </tr>\n",
       "    <tr>\n",
       "      <th>3</th>\n",
       "      <td>Thursday</td>\n",
       "      <td>Today is neither a good day or a bad day!</td>\n",
       "      <td>-0.087500</td>\n",
       "      <td>0.633333</td>\n",
       "      <td>Negative</td>\n",
       "    </tr>\n",
       "    <tr>\n",
       "      <th>4</th>\n",
       "      <td>Friday</td>\n",
       "      <td>I'm having a bad day.</td>\n",
       "      <td>-0.700000</td>\n",
       "      <td>0.666667</td>\n",
       "      <td>Negative</td>\n",
       "    </tr>\n",
       "  </tbody>\n",
       "</table>\n",
       "</div>"
      ],
      "text/plain": [
       "  Day of Week                                        comments  Polarity  \\\n",
       "0      Monday                             Hello, how are you?  0.000000   \n",
       "1     Tuesday                            Today is a good day!  0.875000   \n",
       "2   Wednesday  It's my birthday so it's a really special day!  0.446429   \n",
       "3    Thursday       Today is neither a good day or a bad day! -0.087500   \n",
       "4      Friday                           I'm having a bad day. -0.700000   \n",
       "\n",
       "   Subjectivity Sentiment  \n",
       "0      0.000000   Neutral  \n",
       "1      0.600000  Positive  \n",
       "2      0.571429  Positive  \n",
       "3      0.633333  Negative  \n",
       "4      0.666667  Negative  "
      ]
     },
     "execution_count": 10,
     "metadata": {},
     "output_type": "execute_result"
    }
   ],
   "source": [
    "daily_comm.head()"
   ]
  },
  {
   "cell_type": "markdown",
   "id": "611f7a38",
   "metadata": {},
   "source": [
    "### Testing NaiveBayesAnalyzer"
   ]
  },
  {
   "cell_type": "code",
   "execution_count": 11,
   "id": "a28b4c03",
   "metadata": {},
   "outputs": [],
   "source": [
    "#uses NeiveBayesAnalyzer to classify sentiment of text/comment as pos or neg\n",
    "def sentiment_analysis(df,text_col):\n",
    "    class_labels = []\n",
    "    for text in df[text_col]:\n",
    "        #applying the Naive Bayes Analayzer\n",
    "        blob_object = TextBlob(text,analyzer=NaiveBayesAnalyzer())\n",
    "        #running sentiment analysis with positive and negative\n",
    "        analysis = blob_object.sentiment\n",
    "    \n",
    "        #pulling classification from textblob.sentiments\n",
    "        classification_label = analysis[0]\n",
    "        \n",
    "        #append to list for adding to dataframe\n",
    "        class_labels.append(classification_label)\n",
    "        \n",
    "    df['Sentiment'] = class_labels\n",
    "    \n",
    "    #returning classification label for assignment in df\n",
    "    return df"
   ]
  },
  {
   "cell_type": "markdown",
   "id": "253575a3",
   "metadata": {},
   "source": [
    "### Extra Credit"
   ]
  },
  {
   "cell_type": "code",
   "execution_count": 25,
   "id": "4cf2cbd1",
   "metadata": {},
   "outputs": [
    {
     "data": {
      "text/html": [
       "<div>\n",
       "<style scoped>\n",
       "    .dataframe tbody tr th:only-of-type {\n",
       "        vertical-align: middle;\n",
       "    }\n",
       "\n",
       "    .dataframe tbody tr th {\n",
       "        vertical-align: top;\n",
       "    }\n",
       "\n",
       "    .dataframe thead th {\n",
       "        text-align: right;\n",
       "    }\n",
       "</style>\n",
       "<table border=\"1\" class=\"dataframe\">\n",
       "  <thead>\n",
       "    <tr style=\"text-align: right;\">\n",
       "      <th></th>\n",
       "      <th>review</th>\n",
       "      <th>sentiment</th>\n",
       "    </tr>\n",
       "  </thead>\n",
       "  <tbody>\n",
       "    <tr>\n",
       "      <th>0</th>\n",
       "      <td>One of the other reviewers has mentioned that ...</td>\n",
       "      <td>positive</td>\n",
       "    </tr>\n",
       "    <tr>\n",
       "      <th>1</th>\n",
       "      <td>A wonderful little production. &lt;br /&gt;&lt;br /&gt;The...</td>\n",
       "      <td>positive</td>\n",
       "    </tr>\n",
       "    <tr>\n",
       "      <th>2</th>\n",
       "      <td>I thought this was a wonderful way to spend ti...</td>\n",
       "      <td>positive</td>\n",
       "    </tr>\n",
       "    <tr>\n",
       "      <th>3</th>\n",
       "      <td>Basically there's a family where a little boy ...</td>\n",
       "      <td>negative</td>\n",
       "    </tr>\n",
       "    <tr>\n",
       "      <th>4</th>\n",
       "      <td>Petter Mattei's \"Love in the Time of Money\" is...</td>\n",
       "      <td>positive</td>\n",
       "    </tr>\n",
       "  </tbody>\n",
       "</table>\n",
       "</div>"
      ],
      "text/plain": [
       "                                              review sentiment\n",
       "0  One of the other reviewers has mentioned that ...  positive\n",
       "1  A wonderful little production. <br /><br />The...  positive\n",
       "2  I thought this was a wonderful way to spend ti...  positive\n",
       "3  Basically there's a family where a little boy ...  negative\n",
       "4  Petter Mattei's \"Love in the Time of Money\" is...  positive"
      ]
     },
     "execution_count": 25,
     "metadata": {},
     "output_type": "execute_result"
    }
   ],
   "source": [
    "#dataset for IMDB movie reviews\n",
    "#we will use 'review' column for sentiment analysis\n",
    "imdb_df = pd.read_csv(\"IMDB Dataset.csv\")\n",
    "imdb_df.head()"
   ]
  },
  {
   "cell_type": "code",
   "execution_count": 26,
   "id": "246d54b6",
   "metadata": {},
   "outputs": [],
   "source": [
    "#dropping 'sentiment' column in imdb dataset since we will try to find that out with our scoring\n",
    "imdb_df = imdb_df.drop('sentiment',1)"
   ]
  },
  {
   "cell_type": "code",
   "execution_count": 27,
   "id": "0d46f464",
   "metadata": {},
   "outputs": [],
   "source": [
    "#applying sentiment analysis on 'review' column in imdb dataset\n",
    "#getting the sentiment scores from TextBlob for the 'review' in the dataset\n",
    "imdb_df = get_sentimentScores(imdb_df,'review')\n",
    "#getting the sentiment label based on 'Polarity' for the dataset using the sentiment_label function\n",
    "imdb_df = sentiment_assign(imdb_df,'Polarity')"
   ]
  },
  {
   "cell_type": "code",
   "execution_count": 28,
   "id": "88d09f90",
   "metadata": {},
   "outputs": [
    {
     "data": {
      "text/html": [
       "<div>\n",
       "<style scoped>\n",
       "    .dataframe tbody tr th:only-of-type {\n",
       "        vertical-align: middle;\n",
       "    }\n",
       "\n",
       "    .dataframe tbody tr th {\n",
       "        vertical-align: top;\n",
       "    }\n",
       "\n",
       "    .dataframe thead th {\n",
       "        text-align: right;\n",
       "    }\n",
       "</style>\n",
       "<table border=\"1\" class=\"dataframe\">\n",
       "  <thead>\n",
       "    <tr style=\"text-align: right;\">\n",
       "      <th></th>\n",
       "      <th>review</th>\n",
       "      <th>Polarity</th>\n",
       "      <th>Subjectivity</th>\n",
       "      <th>Sentiment</th>\n",
       "    </tr>\n",
       "  </thead>\n",
       "  <tbody>\n",
       "    <tr>\n",
       "      <th>0</th>\n",
       "      <td>One of the other reviewers has mentioned that ...</td>\n",
       "      <td>0.023433</td>\n",
       "      <td>0.490369</td>\n",
       "      <td>Positive</td>\n",
       "    </tr>\n",
       "    <tr>\n",
       "      <th>1</th>\n",
       "      <td>A wonderful little production. &lt;br /&gt;&lt;br /&gt;The...</td>\n",
       "      <td>0.109722</td>\n",
       "      <td>0.559343</td>\n",
       "      <td>Positive</td>\n",
       "    </tr>\n",
       "    <tr>\n",
       "      <th>2</th>\n",
       "      <td>I thought this was a wonderful way to spend ti...</td>\n",
       "      <td>0.354008</td>\n",
       "      <td>0.658730</td>\n",
       "      <td>Positive</td>\n",
       "    </tr>\n",
       "    <tr>\n",
       "      <th>3</th>\n",
       "      <td>Basically there's a family where a little boy ...</td>\n",
       "      <td>-0.057813</td>\n",
       "      <td>0.454167</td>\n",
       "      <td>Negative</td>\n",
       "    </tr>\n",
       "    <tr>\n",
       "      <th>4</th>\n",
       "      <td>Petter Mattei's \"Love in the Time of Money\" is...</td>\n",
       "      <td>0.217952</td>\n",
       "      <td>0.452916</td>\n",
       "      <td>Positive</td>\n",
       "    </tr>\n",
       "  </tbody>\n",
       "</table>\n",
       "</div>"
      ],
      "text/plain": [
       "                                              review  Polarity  Subjectivity  \\\n",
       "0  One of the other reviewers has mentioned that ...  0.023433      0.490369   \n",
       "1  A wonderful little production. <br /><br />The...  0.109722      0.559343   \n",
       "2  I thought this was a wonderful way to spend ti...  0.354008      0.658730   \n",
       "3  Basically there's a family where a little boy ... -0.057813      0.454167   \n",
       "4  Petter Mattei's \"Love in the Time of Money\" is...  0.217952      0.452916   \n",
       "\n",
       "  Sentiment  \n",
       "0  Positive  \n",
       "1  Positive  \n",
       "2  Positive  \n",
       "3  Negative  \n",
       "4  Positive  "
      ]
     },
     "execution_count": 28,
     "metadata": {},
     "output_type": "execute_result"
    }
   ],
   "source": [
    "imdb_df.head()"
   ]
  },
  {
   "cell_type": "code",
   "execution_count": null,
   "id": "5113d83f",
   "metadata": {},
   "outputs": [],
   "source": []
  }
 ],
 "metadata": {
  "kernelspec": {
   "display_name": "Python 3",
   "language": "python",
   "name": "python3"
  },
  "language_info": {
   "codemirror_mode": {
    "name": "ipython",
    "version": 3
   },
   "file_extension": ".py",
   "mimetype": "text/x-python",
   "name": "python",
   "nbconvert_exporter": "python",
   "pygments_lexer": "ipython3",
   "version": "3.8.8"
  }
 },
 "nbformat": 4,
 "nbformat_minor": 5
}
